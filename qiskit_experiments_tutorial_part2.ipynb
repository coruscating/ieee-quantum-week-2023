{
 "cells": [
  {
   "cell_type": "markdown",
   "id": "d2d9bda4",
   "metadata": {
    "slideshow": {
     "slide_type": "slide"
    }
   },
   "source": [
    "## Benchmarking and Calibrating Quantum Devices with Qiskit Experiments: Part 2\n",
    "\n",
    "Helena Zhang, IBM Quantum (helena.zhang@ibm.com)\n",
    "\n",
    "IEEE Quantum Week 2023\n",
    "\n",
    "We'll be live coding in Qiskit and sending jobs to a real backend.\n",
    "\n",
    "If you'd like to follow along: sign up on [quantum-computing.ibm.com](https://quantum-computing.ibm.com) and send me your email"
   ]
  },
  {
   "cell_type": "markdown",
   "id": "aec9518b",
   "metadata": {
    "slideshow": {
     "slide_type": "slide"
    }
   },
   "source": [
    "## Installation"
   ]
  },
  {
   "cell_type": "code",
   "execution_count": null,
   "id": "2188f435",
   "metadata": {
    "scrolled": true
   },
   "outputs": [],
   "source": [
    "!pip install git+https://github.com/Qiskit-Extensions/qiskit-experiments.git@f5c759bd70b875d15183b9d2b8a7374ea0f5cad3"
   ]
  },
  {
   "cell_type": "code",
   "execution_count": null,
   "id": "0d5d3e9a",
   "metadata": {
    "scrolled": true
   },
   "outputs": [],
   "source": [
    "!python -m pip list | grep qiskit"
   ]
  },
  {
   "cell_type": "markdown",
   "id": "57f3acb9",
   "metadata": {
    "slideshow": {
     "slide_type": "slide"
    }
   },
   "source": [
    "## Running on a real backend"
   ]
  },
  {
   "cell_type": "code",
   "execution_count": null,
   "id": "208366ab",
   "metadata": {
    "scrolled": true
   },
   "outputs": [],
   "source": [
    "import qiskit_ibm_provider.jupyter\n",
    "from qiskit_ibm_provider import IBMProvider\n",
    "\n",
    "# If you haven't yet saved the token to your account, do this:\n",
    "# IBMProvider.save_account(token=<INSERT_IBM_QUANTUM_TOKEN>)\n",
    "\n",
    "provider = IBMProvider(instance=\"ibm-q-community/ieee-tutorial/main\")\n",
    "backend_real = provider.get_backend('ibm_cairo')"
   ]
  },
  {
   "cell_type": "code",
   "execution_count": null,
   "id": "c97d620c",
   "metadata": {
    "scrolled": false
   },
   "outputs": [],
   "source": [
    "# alternatively, without the widget: \n",
    "# from qiskit.visualization import plot_error_map\n",
    "# plot_error_map(backend)\n",
    "\n",
    "backend_real"
   ]
  },
  {
   "cell_type": "markdown",
   "id": "931932e5",
   "metadata": {
    "slideshow": {
     "slide_type": "slide"
    }
   },
   "source": [
    "Let's write an experiment class to generate the GHZ state.\n",
    "\n",
    "To write your own experiment subclassing from `BaseExperiment`:\n",
    "\n",
    "- Call the `__init__()` method during the subclass\n",
    "  constructor with a list of physical qubits and initialization options.\n",
    "  \n",
    "- Implement the abstract `circuits()` method.\n",
    "  This should return a list of `QuantumCircuit` objects defining\n",
    "  the experiment payload. Each circuit can have its own metadata in addition to experiment metadata\n",
    "\n",
    "\n",
    "- Experiment and execution options can be overridden as needed."
   ]
  },
  {
   "cell_type": "markdown",
   "id": "47749d80",
   "metadata": {
    "slideshow": {
     "slide_type": "slide"
    }
   },
   "source": [
    "## Custom experiment template"
   ]
  },
  {
   "cell_type": "code",
   "execution_count": null,
   "id": "ea1a3a7a",
   "metadata": {
    "scrolled": true
   },
   "outputs": [],
   "source": [
    "from qiskit.circuit import QuantumCircuit\n",
    "from typing import List, Optional, Sequence\n",
    "from qiskit.providers.backend import Backend\n",
    "from qiskit_experiments.framework import BaseExperiment, Options\n",
    "\n",
    "class CustomExperiment(BaseExperiment):\n",
    "    \"\"\"Custom experiment class template.\"\"\"\n",
    "\n",
    "    def __init__(self, \n",
    "                 physical_qubits: Sequence[int], \n",
    "                 backend: Optional[Backend] = None):\n",
    "        \"\"\"Initialize the experiment.\"\"\"\n",
    "        super().__init__(physical_qubits, \n",
    "                         analysis = CustomAnalysis(),\n",
    "                         backend = backend)\n",
    "\n",
    "    def circuits(self) -> List[QuantumCircuit]:\n",
    "        \"\"\"Generate the list of circuits to be run.\"\"\"\n",
    "        circuits = []\n",
    "        # Generate circuits and populate metadata here\n",
    "        for i in loops:\n",
    "            circ = QuantumCircuit(self.num_qubits)\n",
    "            circ.metadata = {}\n",
    "            circuits.append(circ)\n",
    "        return circuits\n",
    "\n",
    "    @classmethod\n",
    "    def _default_experiment_options(cls) -> Options:\n",
    "        \"\"\"Set default experiment options here.\"\"\"\n",
    "        options = super()._default_experiment_options()\n",
    "        options.update_options(\n",
    "            dummy_option = None,\n",
    "        )\n",
    "        return options"
   ]
  },
  {
   "cell_type": "code",
   "execution_count": null,
   "id": "f4932cf5",
   "metadata": {
    "scrolled": true,
    "slideshow": {
     "slide_type": "slide"
    }
   },
   "outputs": [],
   "source": [
    "from qiskit.circuit import QuantumCircuit\n",
    "from qiskit.providers.backend import Backend\n",
    "from qiskit_experiments.framework import BaseExperiment\n",
    "\n",
    "class GHZExperiment(BaseExperiment):\n",
    "    \"\"\"Make a GHZ state.\"\"\"\n",
    "\n",
    "    def __init__(self, physical_qubits, measure = True, backend = None):\n",
    "        \"\"\"Initialize the experiment.\"\"\"\n",
    "        super().__init__(physical_qubits, \n",
    "                         backend = backend)\n",
    "        self.set_experiment_options(measure=measure)\n",
    "        \n",
    "    def _default_experiment_options(cls):\n",
    "        r\"\"\"Default values for the rough drag experiment.\n",
    "\n",
    "        Experiment Options:\n",
    "            measure (Bool): Whether to measure qubits at the end.\n",
    "        \"\"\"\n",
    "        options = super()._default_experiment_options()\n",
    "        options.measure = True\n",
    "\n",
    "        return options\n",
    "        \n",
    "    def circuits(self):\n",
    "        \"\"\"Generate the list of circuits to be run.\"\"\"\n",
    "        circuits = []\n",
    "        circ = QuantumCircuit(self.num_qubits)\n",
    "        circ.h(0)\n",
    "        for i in range(1,self.num_qubits):\n",
    "            circ.cx(0,i)\n",
    "        if self.experiment_options.measure:\n",
    "            circ.measure_all()\n",
    "        circuits.append(circ)\n",
    "        return circuits"
   ]
  },
  {
   "cell_type": "markdown",
   "id": "b0d7ecad",
   "metadata": {
    "slideshow": {
     "slide_type": "slide"
    }
   },
   "source": [
    "Instantiate an experiment and inspect the circuits:"
   ]
  },
  {
   "cell_type": "code",
   "execution_count": null,
   "id": "bc6c44a8",
   "metadata": {
    "scrolled": true,
    "slideshow": {
     "slide_type": "slide"
    }
   },
   "outputs": [],
   "source": [
    "exp = GHZExperiment((1,0,2), True, backend_real)\n",
    "exp.circuits()[0].draw(\"mpl\")"
   ]
  },
  {
   "cell_type": "code",
   "execution_count": null,
   "id": "70deebf0",
   "metadata": {
    "scrolled": true
   },
   "outputs": [],
   "source": [
    "exp._transpiled_circuits()[0].draw(\"mpl\", idle_wires=False)"
   ]
  },
  {
   "cell_type": "code",
   "execution_count": null,
   "id": "b5b43b5f",
   "metadata": {
    "scrolled": true,
    "slideshow": {
     "slide_type": "slide"
    }
   },
   "outputs": [],
   "source": [
    "exp_data=exp.run().block_for_results()"
   ]
  },
  {
   "cell_type": "code",
   "execution_count": null,
   "id": "f1ac7195",
   "metadata": {
    "scrolled": true
   },
   "outputs": [],
   "source": [
    "exp_data.data(0)"
   ]
  },
  {
   "cell_type": "markdown",
   "id": "622f6dcb",
   "metadata": {
    "slideshow": {
     "slide_type": "slide"
    }
   },
   "source": [
    "How do we analyze the quality of our state?"
   ]
  },
  {
   "cell_type": "code",
   "execution_count": null,
   "id": "9fe6296e",
   "metadata": {
    "scrolled": true
   },
   "outputs": [],
   "source": [
    "import qiskit\n",
    "from qiskit_experiments.framework import ParallelExperiment\n",
    "from qiskit_experiments.library import StateTomography\n",
    "\n",
    "exp = GHZExperiment((1,0,2), False, backend_real)\n",
    "\n",
    "# QST Experiment\n",
    "qst_exp = StateTomography(exp.circuits()[0])\n",
    "qst_data = qst_exp.run(backend_real).block_for_results()\n",
    "\n",
    "qst_data.analysis_results(dataframe=True)"
   ]
  },
  {
   "cell_type": "code",
   "execution_count": null,
   "id": "7e91ad4c",
   "metadata": {
    "scrolled": true
   },
   "outputs": [],
   "source": [
    "state_result = qst_data.analysis_results(\"state\")\n",
    "print(state_result.value)"
   ]
  },
  {
   "cell_type": "code",
   "execution_count": null,
   "id": "115ba72e",
   "metadata": {
    "scrolled": true,
    "slideshow": {
     "slide_type": "slide"
    }
   },
   "outputs": [],
   "source": [
    "from qiskit.visualization import plot_state_city\n",
    "plot_state_city(qst_data.analysis_results(\"state\").value, title='Density Matrix')"
   ]
  },
  {
   "cell_type": "code",
   "execution_count": null,
   "id": "2d5ab410",
   "metadata": {
    "scrolled": true,
    "slideshow": {
     "slide_type": "slide"
    }
   },
   "outputs": [],
   "source": [
    "starting_fid = qst_data.analysis_results(\"state_fidelity\")\n",
    "print(\"State Fidelity = {:.5f}\".format(starting_fid.value))"
   ]
  },
  {
   "cell_type": "markdown",
   "id": "cf11f435",
   "metadata": {
    "slideshow": {
     "slide_type": "slide"
    }
   },
   "source": [
    "## Tutorial outline\n",
    "\n",
    "- Overview of quantum characterization and calibration\n",
    "- Introduction to Qiskit Experiments\n",
    "- **Calibrations in Qiskit Experiments**\n",
    "- Writing a custom experiment"
   ]
  },
  {
   "cell_type": "markdown",
   "id": "e5e7457f",
   "metadata": {
    "slideshow": {
     "slide_type": "slide"
    }
   },
   "source": [
    "Let's calibrate our gates on a real device. To see how to calibrate gates in Qiskit (without Experiments), you can browse the [Qiskit textbook](https://learn.qiskit.org/course/quantum-hardware-pulses/calibrating-qubits-using-qiskit-pulse)."
   ]
  },
  {
   "cell_type": "code",
   "execution_count": null,
   "id": "1a0d1ca8",
   "metadata": {
    "scrolled": true
   },
   "outputs": [],
   "source": [
    "from qiskit_experiments.calibration_management.calibrations import Calibrations\n",
    "\n",
    "from qiskit_experiments.calibration_management.basis_gate_library import FixedFrequencyTransmon\n",
    "\n",
    "library = FixedFrequencyTransmon()\n",
    "cals = Calibrations.from_backend(backend_real, libraries=[library])"
   ]
  },
  {
   "cell_type": "code",
   "execution_count": null,
   "id": "9242f7ef",
   "metadata": {
    "scrolled": false
   },
   "outputs": [],
   "source": [
    "import pandas as pd\n",
    "pd.set_option('display.max_rows', None)\n",
    "\n",
    "columns_to_show = [\"parameter\", \"qubits\", \"schedule\", \"value\", \"date_time\"]\n",
    "pd.DataFrame(**cals.parameters_table())[columns_to_show]"
   ]
  },
  {
   "cell_type": "code",
   "execution_count": null,
   "id": "26d464d6",
   "metadata": {
    "scrolled": true
   },
   "outputs": [],
   "source": [
    "x_sched = cals.get_schedule('x',(0,))\n",
    "print(x_sched)\n",
    "x_sched.draw()"
   ]
  },
  {
   "cell_type": "markdown",
   "id": "e3214561",
   "metadata": {
    "slideshow": {
     "slide_type": "slide"
    }
   },
   "source": [
    "## Frequency calibration"
   ]
  },
  {
   "cell_type": "code",
   "execution_count": null,
   "id": "8a4aa5e1",
   "metadata": {
    "scrolled": true
   },
   "outputs": [],
   "source": [
    "import numpy as np\n",
    "from qiskit_experiments.library.calibration.rough_frequency import RoughFrequencyCal\n",
    "\n",
    "def frequency(qubit):\n",
    "    freq01_estimate = cals.get_parameter_value(param=\"drive_freq\",qubits=[qubit])\n",
    "    return np.linspace(freq01_estimate-10e6, freq01_estimate+10e6, 51)\n",
    "\n",
    "experiments=[]\n",
    "\n",
    "for qubit in range(10):\n",
    "    exp = RoughFrequencyCal([qubit], cals, frequency(qubit), backend=backend_real)\n",
    "    exp.set_experiment_options(amp=0.004)\n",
    "    experiments.append(exp)\n",
    "\n",
    "spec_cal = ParallelExperiment(experiments, flatten_results=True)\n",
    "spec_cal.set_run_options(meas_level=1, meas_return=\"avg\")"
   ]
  },
  {
   "cell_type": "code",
   "execution_count": null,
   "id": "e600f92a",
   "metadata": {
    "scrolled": true
   },
   "outputs": [],
   "source": [
    "spec_data = spec_cal.run(backend_real).block_for_results()"
   ]
  },
  {
   "cell_type": "code",
   "execution_count": null,
   "id": "54d4c638",
   "metadata": {
    "scrolled": true,
    "slideshow": {
     "slide_type": "slide"
    }
   },
   "outputs": [],
   "source": [
    "spec_data.analysis_results(dataframe=True)"
   ]
  },
  {
   "cell_type": "code",
   "execution_count": null,
   "id": "0f152de4",
   "metadata": {
    "scrolled": true
   },
   "outputs": [],
   "source": [
    "spec_data.figure(0)"
   ]
  },
  {
   "cell_type": "code",
   "execution_count": null,
   "id": "542f6666",
   "metadata": {
    "scrolled": true
   },
   "outputs": [],
   "source": [
    "pd.DataFrame(**cals.parameters_table(parameters=[\"drive_freq\"],qubit_list=[0],most_recent_only=False))[columns_to_show]"
   ]
  },
  {
   "cell_type": "markdown",
   "id": "80fd4838",
   "metadata": {
    "slideshow": {
     "slide_type": "slide"
    }
   },
   "source": [
    "## Rough amplitude calibration"
   ]
  },
  {
   "cell_type": "code",
   "execution_count": null,
   "id": "219d13d1",
   "metadata": {
    "scrolled": true
   },
   "outputs": [],
   "source": [
    "from qiskit_experiments.library import RoughXSXAmplitudeCal\n",
    "from qiskit_experiments.framework import ParallelExperiment\n",
    "\n",
    "rough_amp_cal = ParallelExperiment([RoughXSXAmplitudeCal([qubit], cals, backend=backend_real) for qubit in range(10)], flatten_results=True)\n",
    "rough_amp_cal.set_run_options(meas_level=1, meas_return=\"single\")"
   ]
  },
  {
   "cell_type": "code",
   "execution_count": null,
   "id": "3959d577",
   "metadata": {
    "scrolled": true
   },
   "outputs": [],
   "source": [
    "rough_amp_cal_data = rough_amp_cal.run(backend_real).block_for_results()\n",
    "rough_amp_cal_data.analysis_results(dataframe=True)"
   ]
  },
  {
   "cell_type": "code",
   "execution_count": null,
   "id": "ab1a031d",
   "metadata": {
    "scrolled": true
   },
   "outputs": [],
   "source": [
    "pd.DataFrame(**cals.parameters_table(schedules=[\"x\"],qubit_list=[(),0],most_recent_only=False))[columns_to_show]"
   ]
  },
  {
   "cell_type": "markdown",
   "id": "c4310721",
   "metadata": {
    "slideshow": {
     "slide_type": "slide"
    }
   },
   "source": [
    "# DRAG calibration\n",
    "\n",
    "A Derivative Removal by Adiabatic Gate (DRAG) pulse is designed to minimize leakage and phase errors to a neighbouring transition. The DRAG pulse is $f(t) = \\Omega(t) + i \\beta \\frac{d}{dt} \\Omega(t)$, where $\\Omega$ is the envelope of the in-phase component of the pulse, and $\\beta$ is the strength of the quadrature, which we refer to as the DRAG parameter and seek to calibrate in this experiment.\n",
    "\n"
   ]
  },
  {
   "cell_type": "code",
   "execution_count": null,
   "id": "e0e27f4f",
   "metadata": {
    "scrolled": true
   },
   "outputs": [],
   "source": [
    "from qiskit_experiments.library import RoughDragCal\n",
    "\n",
    "def frequency(qubit):\n",
    "    freq01_estimate = cals.get_parameter_value(param=\"drive_freq\",qubits=[qubit])\n",
    "    return np.linspace(freq01_estimate-10e6, freq01_estimate+10e6, 51)\n",
    "\n",
    "experiments=[]\n",
    "\n",
    "for qubit in range(10):\n",
    "    exp = RoughDragCal([qubit], cals, backend=backend_real, betas=np.linspace(-20, 20, 25))\n",
    "    exp.set_experiment_options(reps=[3, 5, 7])\n",
    "    experiments.append(exp)\n",
    "\n",
    "drag_cal = ParallelExperiment(experiments, flatten_results=True)\n",
    "exp.circuits()[0].draw(\"mpl\")"
   ]
  },
  {
   "cell_type": "code",
   "execution_count": null,
   "id": "6ff99640",
   "metadata": {
    "scrolled": true
   },
   "outputs": [],
   "source": [
    "drag_cal_data = drag_cal.run(backend_real)\n",
    "drag_cal_data.analysis_results(dataframe=True)"
   ]
  },
  {
   "cell_type": "code",
   "execution_count": null,
   "id": "68f1eec9",
   "metadata": {
    "scrolled": true
   },
   "outputs": [],
   "source": [
    "drag_cal_data.figure(0)"
   ]
  },
  {
   "cell_type": "markdown",
   "id": "00d70be7",
   "metadata": {
    "slideshow": {
     "slide_type": "slide"
    }
   },
   "source": [
    "Let's look at the final pulses produced by our calibrations:"
   ]
  },
  {
   "cell_type": "code",
   "execution_count": null,
   "id": "e17d8e06",
   "metadata": {
    "scrolled": true
   },
   "outputs": [],
   "source": [
    "cals.get_inst_map().get(\"x\", 0)"
   ]
  },
  {
   "cell_type": "markdown",
   "id": "fbfce2c2",
   "metadata": {},
   "source": [
    "Compare with the starting pulse:"
   ]
  },
  {
   "cell_type": "code",
   "execution_count": null,
   "id": "1dc94560",
   "metadata": {
    "scrolled": true
   },
   "outputs": [],
   "source": [
    "backend_real.instruction_schedule_map.get(\"x\", 0)"
   ]
  },
  {
   "cell_type": "markdown",
   "id": "12a616be",
   "metadata": {
    "slideshow": {
     "slide_type": "slide"
    }
   },
   "source": [
    "We need to update the `sx` gate with the same parameters."
   ]
  },
  {
   "cell_type": "code",
   "execution_count": null,
   "id": "55d3e675",
   "metadata": {
    "scrolled": true
   },
   "outputs": [],
   "source": [
    "cals.get_inst_map().get(\"sx\", 0)"
   ]
  },
  {
   "cell_type": "code",
   "execution_count": null,
   "id": "3a0213ae",
   "metadata": {
    "scrolled": true,
    "slideshow": {
     "slide_type": "-"
    }
   },
   "outputs": [],
   "source": [
    "for qubit in range(10):\n",
    "    x_beta = cals.get_parameter_value(\"β\", qubit, \"x\")\n",
    "    cals.add_parameter_value(x_beta, \"β\", qubit, \"sx\")\n",
    "cals.get_inst_map().get(\"sx\", 0)"
   ]
  },
  {
   "cell_type": "markdown",
   "id": "3b49db60",
   "metadata": {
    "slideshow": {
     "slide_type": "slide"
    }
   },
   "source": [
    "Let's try out our new pulses! First, send these calibrations along with our circuits. The Qiskit transpiler will use a custom instruction schedule map if one is provided."
   ]
  },
  {
   "cell_type": "code",
   "execution_count": null,
   "id": "8a38bb0a",
   "metadata": {
    "scrolled": true
   },
   "outputs": [],
   "source": [
    "exp = GHZExperiment((0,1,2), False, backend_real)\n",
    "qst_exp = StateTomography(exp.circuits()[0])\n",
    "qst_exp.set_transpile_options(inst_map=cals.get_inst_map())\n",
    "qst_data = qst_exp.run(backend_real)\n",
    "qst_data.analysis_results(dataframe=True)"
   ]
  },
  {
   "cell_type": "markdown",
   "id": "9936934f",
   "metadata": {
    "slideshow": {
     "slide_type": "slide"
    }
   },
   "source": [
    "Look at the circuits:"
   ]
  },
  {
   "cell_type": "code",
   "execution_count": null,
   "id": "57fa1008",
   "metadata": {
    "scrolled": true
   },
   "outputs": [],
   "source": [
    "transpile(qst_exp.circuits()[0], inst_map=cals.get_inst_map(), backend=backend_real)"
   ]
  },
  {
   "cell_type": "code",
   "execution_count": null,
   "id": "54d854ce",
   "metadata": {
    "scrolled": true
   },
   "outputs": [],
   "source": [
    "qst_exp.circuits()[0].draw()"
   ]
  },
  {
   "cell_type": "code",
   "execution_count": null,
   "id": "4e3b20af",
   "metadata": {
    "scrolled": true
   },
   "outputs": [],
   "source": [
    "transpile(qst_exp.circuits()[0],backend_real).draw()"
   ]
  },
  {
   "cell_type": "markdown",
   "id": "261d0941",
   "metadata": {
    "slideshow": {
     "slide_type": "slide"
    }
   },
   "source": [
    "We can draw the pulse schedule:"
   ]
  },
  {
   "cell_type": "code",
   "execution_count": null,
   "id": "4b4d0a40",
   "metadata": {
    "scrolled": true,
    "slideshow": {
     "slide_type": "-"
    }
   },
   "outputs": [],
   "source": [
    "from qiskit import schedule\n",
    "transpiled = transpile(exp.circuits()[0], backend=backend_real)\n",
    "schedule(transpiled, backend=backend_real).draw(time_range=(0,1000))"
   ]
  },
  {
   "cell_type": "code",
   "execution_count": null,
   "id": "ac865e1c",
   "metadata": {
    "scrolled": true
   },
   "outputs": [],
   "source": [
    "from qiskit import schedule\n",
    "transpiled = transpile(exp.circuits()[0], inst_map=cals.get_inst_map(), backend=backend_real)\n",
    "schedule(transpiled, backend=backend_real).draw(time_range=(0,1000))"
   ]
  },
  {
   "cell_type": "markdown",
   "id": "f1e67fa9",
   "metadata": {
    "slideshow": {
     "slide_type": "slide"
    }
   },
   "source": [
    "Let's test that we're actually doing something by deliberately introducing a bad pulse."
   ]
  },
  {
   "cell_type": "code",
   "execution_count": null,
   "id": "2d18a871",
   "metadata": {
    "scrolled": true
   },
   "outputs": [],
   "source": [
    "cals.add_parameter_value(0.05, \"amp\", 0, \"sx\")\n",
    "cals.get_inst_map().get(\"sx\", 0)"
   ]
  },
  {
   "cell_type": "code",
   "execution_count": null,
   "id": "b06effdb",
   "metadata": {
    "scrolled": true
   },
   "outputs": [],
   "source": [
    "exp = GHZExperiment((0,1,2), False, backend_real)\n",
    "qst_exp = StateTomography(exp.circuits()[0])\n",
    "qst_exp.set_transpile_options(inst_map=cals.get_inst_map())\n",
    "qst_data = qst_exp.run(backend_real).block_for_results()\n",
    "qst_data.analysis_results(dataframe=True)"
   ]
  },
  {
   "cell_type": "markdown",
   "id": "1474f23e",
   "metadata": {
    "slideshow": {
     "slide_type": "slide"
    }
   },
   "source": [
    "## Randomized measurement experiment"
   ]
  },
  {
   "cell_type": "markdown",
   "id": "a9b0d050",
   "metadata": {},
   "source": [
    "Symmetrizing the measurement readout error of a circuit is especially useful in systems \n",
    "where readout has an unknown and potentially large bias. We can create a custom experiment to take a circuit as an input and symmetrize\n",
    "its readout."
   ]
  },
  {
   "cell_type": "markdown",
   "id": "6e71d4b4",
   "metadata": {
    "slideshow": {
     "slide_type": "slide"
    }
   },
   "source": [
    "## Custom analysis class template"
   ]
  },
  {
   "cell_type": "code",
   "execution_count": null,
   "id": "693c3649",
   "metadata": {
    "scrolled": true,
    "slideshow": {
     "slide_type": "-"
    }
   },
   "outputs": [],
   "source": [
    "import matplotlib\n",
    "from typing import Tuple, List\n",
    "from qiskit_experiments.framework import (\n",
    "    BaseAnalysis, \n",
    "    Options, \n",
    "    ExperimentData, \n",
    "    AnalysisResultData\n",
    ")\n",
    "\n",
    "class CustomAnalysis(BaseAnalysis):\n",
    "    \"\"\"Custom analysis class template.\"\"\"\n",
    "\n",
    "    @classmethod\n",
    "    def _default_options(cls) -> Options:\n",
    "        \"\"\"Set default analysis options. Plotting is on by default.\"\"\"\n",
    "\n",
    "        options = super()._default_options()\n",
    "        options.dummy_analysis_option = None\n",
    "        options.plot = True\n",
    "        options.ax = None\n",
    "        return options\n",
    "\n",
    "    def _run_analysis(\n",
    "        self, \n",
    "        experiment_data: ExperimentData\n",
    "    ) -> Tuple[List[AnalysisResultData], List[\"matplotlib.figure.Figure\"]]:\n",
    "        \"\"\"Run the analysis.\"\"\"\n",
    "\n",
    "        # Process the data here\n",
    "\n",
    "        analysis_results = [\n",
    "            AnalysisResultData(name=\"dummy result\", value=data)\n",
    "        ]\n",
    "        figures = []\n",
    "        if self.options.plot:\n",
    "            figures.append(self._plot(data))\n",
    "        return analysis_results, figures"
   ]
  },
  {
   "cell_type": "code",
   "execution_count": null,
   "id": "04f65aad",
   "metadata": {
    "scrolled": true,
    "slideshow": {
     "slide_type": "slide"
    }
   },
   "outputs": [],
   "source": [
    "from numpy.random import default_rng, Generator\n",
    "from qiskit import QuantumCircuit\n",
    "from qiskit_experiments.framework import BaseExperiment\n",
    "from qiskit.quantum_info import random_pauli_list\n",
    "\n",
    "class RandomizedMeasurement(BaseExperiment):\n",
    "    def __init__(\n",
    "      self,\n",
    "      circuit,\n",
    "      measured_qubits=None,\n",
    "      physical_qubits=None,\n",
    "      backend=None,\n",
    "      num_samples=10,\n",
    "      seed=None\n",
    "    ):\n",
    "\n",
    "        if physical_qubits is None:\n",
    "              physical_qubits = tuple(range(circuit.num_qubits))\n",
    "        if measured_qubits is None:\n",
    "              measured_qubits = tuple(range(circuit.num_qubits))\n",
    "\n",
    "        analysis = RandomizedMeasurementAnalysis()\n",
    "        super().__init__(physical_qubits, analysis=analysis, backend=backend)\n",
    "\n",
    "        self._circuit = circuit\n",
    "        self._measured_qubits = measured_qubits\n",
    "\n",
    "        self.set_experiment_options(num_samples=num_samples, seed=seed)\n",
    "\n",
    "    @classmethod\n",
    "    def _default_experiment_options(cls):\n",
    "        options = super()._default_experiment_options()\n",
    "        options.num_samples = None\n",
    "        options.seed = None\n",
    "        return options\n",
    "\n",
    "    def circuits(self):\n",
    "        circ_nc = self._circuit.num_clbits\n",
    "        meas_nc = len(self._measured_qubits)\n",
    "        circ_qubits = list(range(self.num_qubits))\n",
    "        circ_clbits = list(range(circ_nc))\n",
    "        meas_qubits = self._measured_qubits\n",
    "        meas_clbits = list(range(circ_nc, circ_nc + meas_nc))\n",
    "\n",
    "        num_samples = self.experiment_options.num_samples\n",
    "        if num_samples is None:\n",
    "            num_samples = 2 ** self.num_qubits\n",
    "\n",
    "        seed = self.experiment_options.seed\n",
    "        if isinstance(seed, Generator):\n",
    "            rng = seed\n",
    "        else:\n",
    "            rng = default_rng(seed)\n",
    "\n",
    "        paulis = random_pauli_list(meas_nc, size=num_samples, phase=False, seed=rng)\n",
    "\n",
    "        circuits = []\n",
    "        orig_metadata = self._circuit.metadata or {}\n",
    "        for pauli in paulis:\n",
    "            name = f\"{self._circuit.name}_{str(pauli)}\"\n",
    "            circ = QuantumCircuit(\n",
    "              self.num_qubits, circ_nc + meas_nc,\n",
    "              name=name\n",
    "            )\n",
    "            circ.compose(\n",
    "              self._circuit, circ_qubits, circ_clbits, inplace=True\n",
    "            )\n",
    "            circ.compose(pauli, meas_qubits, inplace=True)\n",
    "            circ.measure(meas_qubits, meas_clbits)\n",
    "            circ.metadata = orig_metadata.copy()\n",
    "            circ.metadata[\"rm_bits\"] = meas_clbits\n",
    "            circ.metadata[\"rm_sig\"] = pauli.x.astype(int).tolist()\n",
    "\n",
    "            circuits.append(circ)\n",
    "\n",
    "    return circuits\n",
    "\n",
    "from qiskit_experiments.framework import BaseAnalysis, AnalysisResultData\n",
    "\n",
    "class RandomizedMeasurementAnalysis(BaseAnalysis):\n",
    "    \"\"\"Analysis for randomized measurement experiment.\"\"\"\n",
    "\n",
    "    # Helper dict to swap a clbit value\n",
    "    _swap_bit = {\"0\": \"1\", \"1\": \"0\"}\n",
    "\n",
    "    def _run_analysis(self, experiment_data):\n",
    "\n",
    "        combined_counts = {}\n",
    "        for datum in experiment_data.data():\n",
    "            counts = datum[\"counts\"]\n",
    "            num_bits = len(next(iter(counts)))\n",
    "            metadata = datum[\"metadata\"]\n",
    "            clbits = metadata[\"rm_bits\"]\n",
    "            sig = metadata[\"rm_sig\"]\n",
    "            full_sig = num_bits * [0]\n",
    "            for bit, val in zip(clbits, sig):\n",
    "                full_sig[bit] = val\n",
    "            for key, val in counts.items():\n",
    "                bitstring = self._swap_bitstring(key, full_sig)\n",
    "                if bitstring in combined_counts:\n",
    "                    combined_counts[bitstring] += val\n",
    "                else:\n",
    "                    combined_counts[bitstring] = val\n",
    "\n",
    "\n",
    "        result = AnalysisResultData(\"counts\", combined_counts)\n",
    "        return [result], []\n",
    "\n",
    "    @classmethod\n",
    "    def _swap_bitstring(cls, bitstring, sig):\n",
    "        \"\"\"Swap a bitstring based signature to flip bits at.\"\"\"\n",
    "        # This is very inefficient but demonstrates the basic idea\n",
    "        # Really should do with bitwise operations of integer counts rep\n",
    "        return \"\".join(reversed(\n",
    "            [cls._swap_bit[b] if sig[- 1 - i] else b for i, b in enumerate(bitstring)]\n",
    "        ))"
   ]
  },
  {
   "cell_type": "code",
   "execution_count": null,
   "id": "f056e486",
   "metadata": {
    "scrolled": true,
    "slideshow": {
     "slide_type": "slide"
    }
   },
   "outputs": [],
   "source": [
    "from qiskit.providers.aer import AerSimulator, noise\n",
    "\n",
    "backend_ideal = AerSimulator()\n",
    "\n",
    "# Backend with asymetric readout error\n",
    "p0g1 = 0.3\n",
    "p1g0 = 0.05\n",
    "noise_model = noise.NoiseModel()\n",
    "noise_model.add_all_qubit_readout_error([[1 - p1g0, p1g0], [p0g1, 1 - p0g1]])\n",
    "noise_backend = AerSimulator(noise_model=noise_model)"
   ]
  },
  {
   "cell_type": "code",
   "execution_count": null,
   "id": "fa950aba",
   "metadata": {
    "scrolled": true,
    "slideshow": {
     "slide_type": "slide"
    }
   },
   "outputs": [],
   "source": [
    "# Experiment parameters\n",
    "total_shots = 100000\n",
    "num_samples = 50\n",
    "shots = total_shots // num_samples\n",
    "\n",
    "ghz_circs = GHZExperiment((1,0,2), False, backend_real).circuits()[0]\n",
    "\n",
    "\n",
    "# Run ideal randomized meas experiment\n",
    "exp = RandomizedMeasurement(ghz_circs, num_samples=num_samples)\n",
    "exp.circuits()[0].draw(\"mpl\")"
   ]
  },
  {
   "cell_type": "code",
   "execution_count": null,
   "id": "3e976a6b",
   "metadata": {
    "scrolled": true,
    "slideshow": {
     "slide_type": "slide"
    }
   },
   "outputs": [],
   "source": [
    "expdata_ideal = exp.run(AerSimulator(), shots=shots)\n",
    "counts_ideal = expdata_ideal.analysis_results(\"counts\").value\n",
    "print(counts_ideal)"
   ]
  },
  {
   "cell_type": "code",
   "execution_count": null,
   "id": "1baabb33",
   "metadata": {
    "scrolled": true,
    "slideshow": {
     "slide_type": "slide"
    }
   },
   "outputs": [],
   "source": [
    "# Run noisy randomized meas experiment with readout error\n",
    "expdata_noise = exp.run(noise_backend, shots=shots)\n",
    "counts_noise = expdata_noise.analysis_results(\"counts\").value\n",
    "\n",
    "# Run noisy simulation of the original circuit without randomization\n",
    "meas_circ = qc.copy()\n",
    "meas_circ.measure_all()\n",
    "result = noise_backend.run(meas_circ, shots=total_shots).result()\n",
    "counts_direct = result.get_counts(0)\n",
    "\n",
    "from qiskit.visualization import plot_histogram\n",
    "\n",
    "# Plot counts, ideally randomized one should be more symmetric in noise\n",
    "# than direct one with asymmetric readout error\n",
    "plot_histogram([counts_ideal, counts_direct, counts_noise],\n",
    "            legend=[\"Ideal\",\n",
    "                    \"Asymmetric meas error (Direct)\",\n",
    "                    \"Asymmetric meas error (Randomized)\"])"
   ]
  },
  {
   "cell_type": "markdown",
   "id": "e447d30b",
   "metadata": {},
   "source": [
    "## Upcoming features\n",
    "\n",
    "- Separation of execution and experiment: https://github.com/Qiskit/RFCs/blob/master/0014-overhaul-qiskit-experiments.md\n",
    "- Integration with Qiskit Runtime primitives"
   ]
  },
  {
   "cell_type": "markdown",
   "id": "69499873",
   "metadata": {
    "slideshow": {
     "slide_type": "slide"
    }
   },
   "source": [
    "## Takeaways\n",
    "\n",
    "- Quantum hardware and the needs of users are ever-evolving\n",
    "- Characterization and calibration are crucial tasks for large-scale processors\n",
    "- Quantum software should be designed with scalability and usability in mind "
   ]
  },
  {
   "cell_type": "markdown",
   "id": "3264ee95",
   "metadata": {
    "slideshow": {
     "slide_type": "slide"
    }
   },
   "source": [
    "## Acknowledgements\n",
    "\n",
    "Thanks to many people who have made Qiskit Experiments possible:\n",
    "- Naoki Kanazawa, Daniel J. Egger, Yael Ben-Haim, Will Shanks, Gadi Aleksandrowicz, Chris Wood, Eli Arbel, Dekel Meirom, Toshinari Itoko, Merav Aharoni, Itamar Goldman, Conrad Haupt, and others\n",
    "- The Qiskit team and community\n",
    "\n",
    "You can join us at\n",
    "- GitHub: https://github.com/Qiskit/qiskit-experiments\n",
    "- Slack: The public Qiskit Slack https://qisk.it/join-slack #experiments"
   ]
  }
 ],
 "metadata": {
  "celltoolbar": "Slideshow",
  "kernelspec": {
   "display_name": "Python 3 (ipykernel)",
   "language": "python",
   "name": "python3"
  },
  "language_info": {
   "codemirror_mode": {
    "name": "ipython",
    "version": 3
   },
   "file_extension": ".py",
   "mimetype": "text/x-python",
   "name": "python",
   "nbconvert_exporter": "python",
   "pygments_lexer": "ipython3",
   "version": "3.8.16"
  },
  "rise": {
   "controls": false,
   "enable_chalkboard": true,
   "scroll": true,
   "start_slideshow_at": "selected",
   "theme": "white"
  }
 },
 "nbformat": 4,
 "nbformat_minor": 5
}
